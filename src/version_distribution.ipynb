{
 "cells": [
  {
   "cell_type": "code",
   "execution_count": 1,
   "metadata": {},
   "outputs": [],
   "source": [
    "import os\n",
    "import numpy as np\n",
    "import pandas as pd\n",
    "import matplotlib.pyplot as plt\n",
    "from store import *\n",
    "import kbech32"
   ]
  },
  {
   "cell_type": "code",
   "execution_count": 2,
   "metadata": {},
   "outputs": [],
   "source": [
    "store = Store(os.getenv('localappdata') + r'\\Kaspad\\kaspa-mainnet\\datadir2')"
   ]
  },
  {
   "cell_type": "code",
   "execution_count": 3,
   "metadata": {},
   "outputs": [],
   "source": [
    "store.load_recent_blocks(7200_000)"
   ]
  },
  {
   "cell_type": "code",
   "execution_count": 4,
   "metadata": {},
   "outputs": [
    {
     "data": {
      "application/vnd.jupyter.widget-view+json": {
       "model_id": "5ffb27aab55840a59705fb7bc3e8a59a",
       "version_major": 2,
       "version_minor": 0
      },
      "text/plain": [
       "  0%|          | 0/7230 [00:00<?, ?it/s]"
      ]
     },
     "metadata": {},
     "output_type": "display_data"
    }
   ],
   "source": [
    "header_fields = ['timeInMilliseconds', 'blueScore', 'blueWork', 'daaScore', 'difficulty']\n",
    "block_fields = ['pubkey_script', 'kaspad_version', 'miner_version']\n",
    "count_fields = [] # ['num_parents', 'num_children', 'num_blues', 'num_reds']\n",
    "frames = store.load_data(header_fields=header_fields, block_fields=block_fields, count_fields=count_fields)"
   ]
  },
  {
   "cell_type": "code",
   "execution_count": 5,
   "metadata": {},
   "outputs": [
    {
     "data": {
      "text/plain": [
       "dict_keys(['hash', 'timeInMilliseconds', 'blueScore', 'blueWork', 'daaScore', 'difficulty', 'pubkey_script', 'kaspad_version', 'miner_version'])"
      ]
     },
     "execution_count": 5,
     "metadata": {},
     "output_type": "execute_result"
    }
   ],
   "source": [
    "frames.keys()"
   ]
  },
  {
   "cell_type": "code",
   "execution_count": 6,
   "metadata": {},
   "outputs": [],
   "source": [
    "df = pd.DataFrame(frames).set_index('hash')"
   ]
  },
  {
   "cell_type": "code",
   "execution_count": 7,
   "metadata": {},
   "outputs": [
    {
     "data": {
      "text/plain": [
       "(1663284609692, 7230)"
      ]
     },
     "execution_count": 7,
     "metadata": {},
     "output_type": "execute_result"
    }
   ],
   "source": [
    "pp_time = store.get_header_data(store.pruning_point()).timeInMilliseconds\n",
    "pp_time, len(df)"
   ]
  },
  {
   "cell_type": "code",
   "execution_count": 8,
   "metadata": {},
   "outputs": [
    {
     "data": {
      "text/plain": [
       "0.12.6    0.904564\n",
       "0.12.4    0.069986\n",
       "0.12.5    0.025450\n",
       "Name: kaspad_version, dtype: float64"
      ]
     },
     "execution_count": 8,
     "metadata": {},
     "output_type": "execute_result"
    }
   ],
   "source": [
    "df['kaspad_version'].value_counts(normalize=True)"
   ]
  },
  {
   "cell_type": "code",
   "execution_count": 24,
   "metadata": {},
   "outputs": [],
   "source": [
    "def miner_type(miner_version):\n",
    "    if 'BzMiner' in miner_version:\n",
    "        return 'BzMiner'\n",
    "    if '0.2.1-GPU' in miner_version:\n",
    "        return 'CommunityMiner'\n",
    "#     if 'WoolyPooly' in miner_version:\n",
    "#         return 'WoolyPooly'\n",
    "#     if 'acc-pool' in miner_version:\n",
    "#         return 'acc-pool'\n",
    "    if 'KStratum' in miner_version:\n",
    "        return 'KStratum'\n",
    "    if 'onemorebsmith' in miner_version:\n",
    "        return 'onemorebsmith-bridge'\n",
    "    return miner_version\n",
    "\n",
    "df[\"miner_type\"] = df[\"miner_version\"].apply(miner_type)"
   ]
  },
  {
   "cell_type": "code",
   "execution_count": 25,
   "metadata": {},
   "outputs": [
    {
     "data": {
      "text/plain": [
       "0.12.6/WoolyPooly DE4          0.122407\n",
       "0.12.6/kaspaminer-0.12.6       0.086307\n",
       "0.12.6/WoolyPooly SG1          0.085615\n",
       "0.12.6/eu1.acc-pool.pw         0.081743\n",
       "0.12.6/WoolyPooly DE3          0.075380\n",
       "0.12.6/WoolyPooly TR1          0.071231\n",
       "0.12.4/00                      0.069571\n",
       "0.12.6/WoolyPooly RU1          0.057815\n",
       "0.12.6/WoolyPooly KR1          0.056570\n",
       "0.12.6/WoolyPooly BR1          0.047580\n",
       "0.12.6/WoolyPooly US1          0.045505\n",
       "0.12.6/kaspaminer-0.12.2       0.036238\n",
       "0.12.6/ru.acc-pool.pw          0.032503\n",
       "0.12.6/hk.acc-pool.pw          0.025864\n",
       "0.12.6/ca.acc-pool.pw          0.025311\n",
       "0.12.5/CommunityMiner          0.021162\n",
       "0.12.6/WoolyPooly CA1          0.013140\n",
       "0.12.6/KStratum                0.012310\n",
       "0.12.6/kaspa-pool.org          0.010512\n",
       "0.12.6/BzMiner                 0.007331\n",
       "0.12.6/WoolyPooly AU1          0.004979\n",
       "0.12.6/ge.acc-pool.pw          0.003873\n",
       "0.12.5/KStratum                0.002213\n",
       "0.12.5/eu2.acc-pool.pw         0.001798\n",
       "0.12.6/CommunityMiner          0.000830\n",
       "0.12.6/ru.solo.acc-pool.pw     0.000830\n",
       "0.12.6/ge.solo.acc-pool.pw     0.000415\n",
       "0.12.6/ca.solo.acc-pool.pw     0.000277\n",
       "0.12.4/KStratum                0.000277\n",
       "0.12.5/BzMiner                 0.000138\n",
       "0.12.5/onemorebsmith-bridge    0.000138\n",
       "0.12.4/BzMiner                 0.000138\n",
       "dtype: float64"
      ]
     },
     "execution_count": 25,
     "metadata": {},
     "output_type": "execute_result"
    }
   ],
   "source": [
    "(df['kaspad_version'] + '/' + df['miner_type']).value_counts(normalize=True)"
   ]
  },
  {
   "cell_type": "code",
   "execution_count": 26,
   "metadata": {},
   "outputs": [
    {
     "data": {
      "text/plain": [
       "WoolyPooly DE4          0.122407\n",
       "kaspaminer-0.12.6       0.086307\n",
       "WoolyPooly SG1          0.085615\n",
       "eu1.acc-pool.pw         0.081743\n",
       "WoolyPooly DE3          0.075380\n",
       "WoolyPooly TR1          0.071231\n",
       "00                      0.069571\n",
       "WoolyPooly RU1          0.057815\n",
       "WoolyPooly KR1          0.056570\n",
       "WoolyPooly BR1          0.047580\n",
       "WoolyPooly US1          0.045505\n",
       "kaspaminer-0.12.2       0.036238\n",
       "ru.acc-pool.pw          0.032503\n",
       "hk.acc-pool.pw          0.025864\n",
       "ca.acc-pool.pw          0.025311\n",
       "CommunityMiner          0.021992\n",
       "KStratum                0.014799\n",
       "WoolyPooly CA1          0.013140\n",
       "kaspa-pool.org          0.010512\n",
       "BzMiner                 0.007607\n",
       "WoolyPooly AU1          0.004979\n",
       "ge.acc-pool.pw          0.003873\n",
       "eu2.acc-pool.pw         0.001798\n",
       "ru.solo.acc-pool.pw     0.000830\n",
       "ge.solo.acc-pool.pw     0.000415\n",
       "ca.solo.acc-pool.pw     0.000277\n",
       "onemorebsmith-bridge    0.000138\n",
       "Name: miner_type, dtype: float64"
      ]
     },
     "execution_count": 26,
     "metadata": {},
     "output_type": "execute_result"
    }
   ],
   "source": [
    "df['miner_type'].value_counts(normalize=True)"
   ]
  },
  {
   "cell_type": "code",
   "execution_count": 12,
   "metadata": {},
   "outputs": [],
   "source": [
    "store.close()"
   ]
  },
  {
   "cell_type": "code",
   "execution_count": null,
   "metadata": {},
   "outputs": [],
   "source": []
  }
 ],
 "metadata": {
  "kernelspec": {
   "display_name": "Python 3",
   "language": "python",
   "name": "python3"
  },
  "language_info": {
   "codemirror_mode": {
    "name": "ipython",
    "version": 3
   },
   "file_extension": ".py",
   "mimetype": "text/x-python",
   "name": "python",
   "nbconvert_exporter": "python",
   "pygments_lexer": "ipython3",
   "version": "3.6.5"
  }
 },
 "nbformat": 4,
 "nbformat_minor": 2
}
